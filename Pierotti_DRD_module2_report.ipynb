{
 "cells": [
  {
   "cell_type": "markdown",
   "metadata": {},
   "source": [
    "# DNA-RNA dynamics module 2 report - Saul Pierotti\n",
    "This report was made on Jupyter notebook and last revised on June 12, 2020.\n",
    "The student specific parameters to be used for the report (as detailed in the assignment) are reported below.\n",
    "\n",
    "| Parameter                |               Value |\n",
    "|:-------------------------|--------------------:|\n",
    "| Student number           |                  24 |\n",
    "| Step 3 address           |            59625465 |\n",
    "| Step 5 p-value threshold |                0.01 |\n",
    "| Step 7 normalization     |   preprocessFunnorm |\n",
    "| Step 9 test              |   Mann-Whitney test |"
   ]
  },
  {
   "cell_type": "markdown",
   "metadata": {},
   "source": [
    "## Step 1\n",
    ">Load raw data with minfi and create an object called RGset storing the RGChannelSet object.\n",
    "\n",
    "I first clean the workspace and then import the minfi library. I do not set the working directory since I will give full paths relative to the directory in which this notebook is run."
   ]
  },
  {
   "cell_type": "code",
   "execution_count": null,
   "metadata": {},
   "outputs": [],
   "source": [
    "rm(list=ls()) # remove all the variables from the workspace"
   ]
  },
  {
   "cell_type": "code",
   "execution_count": null,
   "metadata": {},
   "outputs": [],
   "source": [
    "suppressMessages(require('minfi')) # load the only required library, minfi\n",
    "require(IlluminaHumanMethylation450kmanifest)\n",
    "require(gplots)\n",
    "require(gap)\n",
    "data_dir <- './Input_data' # just for convenience to not type every time"
   ]
  },
  {
   "cell_type": "markdown",
   "metadata": {},
   "source": [
    "I load the sample sheet of the experiment to a dataframe using the minfi `read.metharray.sheet` function."
   ]
  },
  {
   "cell_type": "code",
   "execution_count": null,
   "metadata": {},
   "outputs": [],
   "source": [
    "targets <- read.metharray.sheet(data_dir)"
   ]
  },
  {
   "cell_type": "markdown",
   "metadata": {},
   "source": [
    "Now I load the raw experiment data from the `Input_data` folder and I create the RGChannelSet object using the `read.metharray.exp` function. The targets are the one extracted from the sample sheet before."
   ]
  },
  {
   "cell_type": "code",
   "execution_count": null,
   "metadata": {},
   "outputs": [],
   "source": [
    "RGset <- suppressWarnings(read.metharray.exp(base='./Input_data',targets = targets))"
   ]
  },
  {
   "cell_type": "markdown",
   "metadata": {},
   "source": [
    "## Step 2\n",
    ">Create the dataframes Red and Green to store the red and green fluorescences respectively.\n",
    "\n",
    "I use the `getGreen` and `getRed` functions on the RGChannelSet object for extracting the information of the respective color channels.\n",
    "These data are then converted to 2 dataframes of the same dimensionality of 8\\*622399 (8 samples and 622399 addresses)."
   ]
  },
  {
   "cell_type": "code",
   "execution_count": null,
   "metadata": {},
   "outputs": [],
   "source": [
    "Red <- data.frame(getRed(RGset))\n",
    "Green <- data.frame(getGreen(RGset))"
   ]
  },
  {
   "cell_type": "markdown",
   "metadata": {},
   "source": [
    "## Step 3\n",
    "These are the instructions:\n",
    "> Fill the following table: what are the Red and Green fluorescences for the address assigned to you?\n",
    "> Optional: check in the manifest file if the address corresponds to a Type I or a Type II probe and, in case of Type I probe, report its color.\n",
    "\n",
    "The student-specific probe address assigned for this step is `59625465`.\n",
    "First I note down which array and slide refers to which sample by reading the sample sheet."
   ]
  },
  {
   "cell_type": "code",
   "execution_count": null,
   "metadata": {},
   "outputs": [],
   "source": [
    "targets"
   ]
  },
  {
   "cell_type": "markdown",
   "metadata": {},
   "source": [
    "Then I extract the red and green instensity for the assigned probe by slicing the respective dataframes."
   ]
  },
  {
   "cell_type": "code",
   "execution_count": null,
   "metadata": {},
   "outputs": [],
   "source": [
    "Red[rownames(Red)==\"59625465\",]\n",
    "Green[rownames(Green)==\"59625465\",]"
   ]
  },
  {
   "cell_type": "markdown",
   "metadata": {},
   "source": [
    "Now I load the manifest for the Illumina 450k Infinium array with the `getProbeInfo` function and check the carachetristics of the assigned probe.\n",
    "I find that it is a type II probe, so there is no color to specify in the table."
   ]
  },
  {
   "cell_type": "code",
   "execution_count": null,
   "metadata": {},
   "outputs": [],
   "source": [
    "probe_info <- getProbeInfo(RGset, type = 'II')\n",
    "probe_info[probe_info$AddressA==59625465,]"
   ]
  },
  {
   "cell_type": "markdown",
   "metadata": {},
   "source": [
    "With all of these pieces of information I can complete the table as assigned.\n",
    "\n",
    "\n",
    "| Sample | Group |      Slide | Array  | Red fluorescence | Green fluorescence | Type | Color |\n",
    "|--------|-------|-----------:|--------|-----------------:|-------------------:|-----:|------:|\n",
    "| 1020   | DS    | 5775278051 | R01C01 |            11585 |                935 |   II |     / |\n",
    "| 1036   | DS    | 5775278051 | R04C02 |            14282 |                845 |   II |     / |\n",
    "| 3038   | WT    | 5775278078 | R02C01 |            11253 |                666 |   II |     / |\n",
    "| 3042   | WT    | 5775278078 | R05C01 |            11494 |                785 |   II |     / |\n",
    "| 3052   | WT    | 5775278078 | R05C02 |            11254 |                652 |   II |     / |\n",
    "| 1016   | DS    | 5930514034 | R01C02 |            11152 |                306 |   II |     / |\n",
    "| 1029   | DS    | 5930514035 | R04C02 |            11625 |                584 |   II |     / |\n",
    "| 3029   | WT    | 5930514035 | R06C02 |            13019 |                668 |   II |     / |"
   ]
  },
  {
   "cell_type": "markdown",
   "metadata": {},
   "source": [
    "## Step 4\n",
    "These are the instructions:\n",
    "> Create the object MSet.raw\n",
    "\n",
    "I use the `preprocessRaw` function on the RGset to get the raw Mset."
   ]
  },
  {
   "cell_type": "code",
   "execution_count": null,
   "metadata": {},
   "outputs": [],
   "source": [
    "MSet.raw <- preprocessRaw(RGset)"
   ]
  },
  {
   "cell_type": "markdown",
   "metadata": {},
   "source": [
    "## Step 5\n",
    "These are the instructions:\n",
    "> Perform the following quality checks and provide a brief comment to each step:\n",
    "> * QCplot\n",
    "> * check the intensity of negative controls using minfi\n",
    "> * calculate detection pValues; for each sample, how many probes have a detection p-value higher than the threshold assigned to each student?\n",
    "\n",
    "I first create a QC plot by getting the medians of the methylation and unmethylation channels with the `getQC` function and I plot them with the `plotQC` function."
   ]
  },
  {
   "cell_type": "code",
   "execution_count": null,
   "metadata": {},
   "outputs": [],
   "source": [
    "qc <- getQC(MSet.raw)\n",
    "plotQC(qc)"
   ]
  },
  {
   "cell_type": "markdown",
   "metadata": {},
   "source": [
    "Since all the samples have high median methylation and unmethylation signals, I can consider that all of them are of good quality.\n",
    "Now I plot the negative control probe intensities of the RGset using the `controlStripPlot` function."
   ]
  },
  {
   "cell_type": "code",
   "execution_count": null,
   "metadata": {},
   "outputs": [],
   "source": [
    "controlStripPlot(RGset, controls=\"NEGATIVE\")"
   ]
  },
  {
   "cell_type": "markdown",
   "metadata": {},
   "source": [
    "The represented color are inverted (the red is shown in green and vice versa). This was observed also during the lectures and it can be a bug of the package. During the lectures we also determined that the text label refers to the correct color, not the actual color of the plot.\n",
    "The negative controls are all fine since their intensity is below 1000 (10 in Log2 scale).\n",
    "Now I will determine the detection p-values for the probes using the `detectionP` function on the RGset.\n",
    "I will consider as failed the probes with a detection p-value higher than the assigned threshold of 0.01."
   ]
  },
  {
   "cell_type": "code",
   "execution_count": null,
   "metadata": {},
   "outputs": [],
   "source": [
    "detP <- detectionP(RGset)\n",
    "failed <- detP>0.01\n",
    "summary(failed)"
   ]
  },
  {
   "cell_type": "markdown",
   "metadata": {},
   "source": [
    "The following number of probes has a p-value higher than the threshold for each one of the samples:\n",
    "\n",
    "| Sample | Group |      Slide | Array  | Failed probes (p-value > 0.01) |\n",
    "|--------|-------|-----------:|--------|-------------------------------:|\n",
    "| 1020   | DS    | 5775278051 | R01C01 |                            323 |\n",
    "| 1036   | DS    | 5775278051 | R04C02 |                            260 |\n",
    "| 3038   | WT    | 5775278078 | R02C01 |                            312 |\n",
    "| 3042   | WT    | 5775278078 | R05C01 |                            485 |\n",
    "| 3052   | WT    | 5775278078 | R05C02 |                            465 |\n",
    "| 1016   | DS    | 5930514034 | R01C02 |                            123 |\n",
    "| 1029   | DS    | 5930514035 | R04C02 |                             60 |\n",
    "| 3029   | WT    | 5930514035 | R06C02 |                            149 |"
   ]
  },
  {
   "cell_type": "markdown",
   "metadata": {},
   "source": [
    "## Step 6\n",
    "These are the instructions:\n",
    "> Calculate raw beta and M values and plot the densities of mean\n",
    "methylation values, dividing the samples in DS and WT (suggestion: subset the beta and M values matrixes in order to retain DS or WT\n",
    "subjects and apply the function mean to the 2 subsets). \n",
    "\n",
    "I first extract the beta and M values from the MSet.raw using the `getBeta` and `getM` functions."
   ]
  },
  {
   "cell_type": "code",
   "execution_count": null,
   "metadata": {},
   "outputs": [],
   "source": [
    "beta <- getBeta(MSet.raw)\n",
    "M <- getM(MSet.raw)"
   ]
  },
  {
   "cell_type": "markdown",
   "metadata": {},
   "source": [
    "Now I subset the beta and M value matrices on the basis of the group (DS or WT) of the sample."
   ]
  },
  {
   "cell_type": "code",
   "execution_count": null,
   "metadata": {},
   "outputs": [],
   "source": [
    "isDS_bool <- targets$Group=='DS' # getting a boolean vector according to the sample group\n",
    "beta_DS <- beta[,isDS_bool] # subsetting the beta values and M values on the boolean vector\n",
    "beta_WT <- beta[,!isDS_bool]\n",
    "M_DS <- M[,isDS_bool]\n",
    "M_WT <- M[,!isDS_bool]"
   ]
  },
  {
   "cell_type": "markdown",
   "metadata": {},
   "source": [
    "Now I calculate the mean beta and M values for each queried position across the 2 sample groups (across rows, MARGIN=1), discarding NA values (na.rm=T)."
   ]
  },
  {
   "cell_type": "code",
   "execution_count": null,
   "metadata": {},
   "outputs": [],
   "source": [
    "beta_DS_mean <- apply(beta_DS,MARGIN=1,mean,na.rm=T)\n",
    "beta_WT_mean <- apply(beta_WT,MARGIN=1,mean,na.rm=T)\n",
    "M_DS_mean <- apply(M_DS,MARGIN=1,mean,na.rm=T)\n",
    "M_WT_mean <- apply(M_WT,MARGIN=1,mean,na.rm=T)"
   ]
  },
  {
   "cell_type": "markdown",
   "metadata": {},
   "source": [
    "Now I can calculate the density distribution of all of these means and plot them."
   ]
  },
  {
   "cell_type": "code",
   "execution_count": null,
   "metadata": {},
   "outputs": [],
   "source": [
    "beta_DS_mean_d <- density(beta_DS_mean)\n",
    "beta_WT_mean_d <- density(beta_WT_mean)\n",
    "M_DS_mean_d <- density(M_DS_mean)\n",
    "M_WT_mean_d <- density(M_WT_mean)"
   ]
  },
  {
   "cell_type": "code",
   "execution_count": null,
   "metadata": {},
   "outputs": [],
   "source": [
    "plot(beta_DS_mean_d,main=\"Density of Beta Values\",col=\"red\")\n",
    "lines(beta_WT_mean_d,main=\"Density of Beta Values\",col=\"blue\")\n",
    "plot(M_DS_mean_d,main=\"Density of M Values\",col=\"red\")\n",
    "lines(M_WT_mean_d,main=\"Density of M Values\",col=\"blue\")"
   ]
  },
  {
   "cell_type": "markdown",
   "metadata": {},
   "source": [
    "The red lines represents the DS samples beta/M mean density while the blue line represents that of the WT samples.\n",
    "We can see how in the 2 sample groups both beta and M values tend to have a very similar distribution."
   ]
  },
  {
   "cell_type": "markdown",
   "metadata": {},
   "source": [
    "## Step 7\n",
    "These are the instructions:\n",
    "> Normalize the data using the function assigned to each student and\n",
    "compare raw data and normalized data. Produce a plot with 6 panels\n",
    "in which, for both raw and normalized data, you show the density\n",
    "plots of beta mean values according to the chemistry of the probes,\n",
    "the density plot of beta standard deviation values according to the\n",
    "chemistry of the probes and the boxplot of beta values. Provide a\n",
    "short comment regarding the changes you observe.\n",
    "\n",
    "I first extract the type I and type II probe names from the manifest of the array and use them to subset the beta values matrix."
   ]
  },
  {
   "cell_type": "code",
   "execution_count": null,
   "metadata": {},
   "outputs": [],
   "source": [
    "type_I <- getProbeInfo(MSet.raw, type = 'I')$Name # vector of probe IDs\n",
    "type_II <- getProbeInfo(MSet.raw, type = 'II')$Name\n",
    "beta_I <- beta[rownames(beta) %in% type_I,] # subset of the beta matrix containing only type I probes\n",
    "beta_II <- beta[rownames(beta) %in% type_II,] # subset of the beta matrix containing only type II probes"
   ]
  },
  {
   "cell_type": "markdown",
   "metadata": {},
   "source": [
    "I then calculate mean and standard deviation density for type I and type II probes."
   ]
  },
  {
   "cell_type": "code",
   "execution_count": null,
   "metadata": {},
   "outputs": [],
   "source": [
    "mean_beta_I <- apply(beta_I,1,mean,na.rm=T)\n",
    "mean_beta_II <- apply(beta_II,1,mean,na.rm=T)\n",
    "d_mean_beta_I <- density(mean_beta_I)\n",
    "d_mean_beta_II <- density(mean_beta_II)\n",
    "sd_beta_I <- apply(beta_I,1,sd,na.rm=T)\n",
    "sd_beta_II <- apply(beta_II,1,sd,na.rm=T)\n",
    "d_sd_beta_I <- density(sd_beta_I)\n",
    "d_sd_beta_II <- density(sd_beta_II)"
   ]
  },
  {
   "cell_type": "markdown",
   "metadata": {},
   "source": [
    "I normalize (between-array) the RGset using the function assigned (`preprocessFunnorm`), which removes the variability explained by the control probes.\n",
    "This will produce a GenomicRatioSet object."
   ]
  },
  {
   "cell_type": "code",
   "execution_count": null,
   "metadata": {},
   "outputs": [],
   "source": [
    "normalized_data <- preprocessFunnorm(RGset)"
   ]
  },
  {
   "cell_type": "markdown",
   "metadata": {},
   "source": [
    "I can now extract the normalized beta values using the `getBeta` function and then separate type I and type II probes as done with the original data.\n",
    "I also calculate mean and standard deviation densities as before."
   ]
  },
  {
   "cell_type": "code",
   "execution_count": null,
   "metadata": {},
   "outputs": [],
   "source": [
    "beta_norm <- getBeta(normalized_data)\n",
    "beta_I_norm <- beta[rownames(beta_norm) %in% type_I,]\n",
    "beta_II_norm <- beta[rownames(beta_norm) %in% type_II,]\n",
    "mean_beta_I_norm <- apply(beta_I_norm,1,mean,na.rm=T)\n",
    "mean_beta_II_norm <- apply(beta_II_norm,1,mean,na.rm=T)\n",
    "d_mean_beta_I_norm <- density(mean_beta_I_norm)\n",
    "d_mean_beta_II_norm <- density(mean_beta_II_norm)\n",
    "sd_beta_I_norm <- apply(beta_I_norm,1,sd,na.rm=T)\n",
    "sd_beta_II_norm <- apply(beta_II_norm,1,sd,na.rm=T)\n",
    "d_sd_beta_I_norm <- density(sd_beta_I_norm)\n",
    "d_sd_beta_II_norm <- density(sd_beta_II_norm)"
   ]
  },
  {
   "cell_type": "markdown",
   "metadata": {},
   "source": [
    "Finally I can produce plots of mean beta value density and standard deviation density, differentiated by chemistry of the probes and for raw and normalized data.\n",
    "I also produce a box plot of the beta values across samples for the raw and normalized data."
   ]
  },
  {
   "cell_type": "code",
   "execution_count": null,
   "metadata": {},
   "outputs": [],
   "source": [
    "par(mfrow=c(2,3))\n",
    "plot(d_mean_beta_I,col=\"blue\",main=\"raw beta\")\n",
    "lines(d_mean_beta_II,col=\"red\")\n",
    "plot(d_sd_beta_I,col=\"blue\",main=\"raw sd\")\n",
    "lines(d_sd_beta_II,col=\"red\")\n",
    "boxplot(beta)\n",
    "plot(d_mean_beta_I_norm,col=\"blue\",main=\"preprocessFunnorm beta\")\n",
    "lines(d_mean_beta_II_norm,col=\"red\")\n",
    "plot(d_sd_beta_I_norm,col=\"blue\",main=\"preprocessFunnorm sd\")\n",
    "lines(d_sd_beta_II_norm,col=\"red\")\n",
    "boxplot(beta_norm)"
   ]
  },
  {
   "cell_type": "markdown",
   "metadata": {},
   "source": [
    "I can observe that the distribution of beta values is almost identical across samples for the normalized data, while it is more variable for the raw data. Only the median in the normalized data seems to differ slightly among samples.\n",
    "The distribtion of median densities and standard deviation densities is almost equivalent among type I and II probes in the normalized data, while it is heavily different in the raw data. In the raw data the density of standard deviations for type II probes tend to be shifted towards higher values compared to type I probes.\n",
    "The peaks on the mean density distribution for the type II probes is more shifted towards the center compared to type I probes in the raw data.\n",
    "All of these differences among chemistries in the raw data are as expected: type II probes are more variable and they show a narrower range of beta values compared to type I probes."
   ]
  },
  {
   "cell_type": "markdown",
   "metadata": {},
   "source": [
    "## Step 8\n",
    "These are the instructions:\n",
    "> Perform a PCA on the beta matrix generated in step 7. Comment the\n",
    "plot.\n",
    "\n",
    "I want now to apply the `prcomp` function on the normalized beta values matrix obtained in step 7 in order to perform a PCA on it.\n",
    "The beta values matrix has one column per sample and one probe per row, and because of this it must be trasposed before applying the PCA (`t` function)."
   ]
  },
  {
   "cell_type": "code",
   "execution_count": null,
   "metadata": {},
   "outputs": [],
   "source": [
    "pca_results <- prcomp(t(beta_norm),scale=T)\n",
    "summary(pca_results)\n",
    "plot(pca_results)"
   ]
  },
  {
   "cell_type": "markdown",
   "metadata": {},
   "source": [
    "In the screw plot, it seems that the variance is quite uniformly distributed among the first 7 components.\n",
    "The 8th component contains really limited variance, and so the first 7 PC can explain almost all of the variability of the dataset.\n",
    "This may mean that the samples differ sensibly on more than a few orthogonal axes.\n",
    "I can plot the first 2 to principal componets to see if the DS and WT groups are separated according to those dimensions."
   ]
  },
  {
   "cell_type": "code",
   "execution_count": null,
   "metadata": {},
   "outputs": [],
   "source": [
    "palette(\"default\")\n",
    "groups <- factor(targets$Group) # extract the group labels as factors\n",
    "plot(pca_results$x[,1], pca_results$x[,2],cex=2,pch=2,col=groups,xlab=\"PC1\",ylab=\"PC2\") # make the plot and name the axes\n",
    "legend(\"bottomright\",legend=levels(groups),col=c(1:nlevels(groups)),pch=2) # add the legend"
   ]
  },
  {
   "cell_type": "markdown",
   "metadata": {},
   "source": [
    "I can color the same plot according to the array used, to spot batch effects."
   ]
  },
  {
   "cell_type": "code",
   "execution_count": null,
   "metadata": {},
   "outputs": [],
   "source": [
    "slides <- factor(targets$Slide)\n",
    "plot(pca_results$x[,1], pca_results$x[,2],cex=2,pch=2,col=slides,xlab=\"PC1\",ylab=\"PC2\") # make the plot and name the axes\n",
    "legend(\"bottomright\",legend=levels(slides),col=c(1:nlevels(slides)),pch=2) # add the legend"
   ]
  },
  {
   "cell_type": "markdown",
   "metadata": {},
   "source": [
    "From these plots I can see how the 2 groups (DS and WT) seem distinct according to the first 2 principal components.\n",
    "A line of the type y=x seem to well separate the 2 groups.\n",
    "DS seems confined to a region where PC1>PC2, while WT is confined in a region where PC2>PC1.\n",
    "On the contrary, the systematic differences among slides seem to be due more to the belonging of samples run in the same slide to different groups.\n",
    "Slide 5930514035, which contains a sample from the DS and a sample from the WT group, still respects the pattern of separation between sample groups.\n",
    "Randomization of the samples on the slides could have been used to allow to test for batch effects separately from sample groups."
   ]
  },
  {
   "cell_type": "markdown",
   "metadata": {},
   "source": [
    "## Step 9\n",
    "These are the instructions:\n",
    "> Using the matrix of normalized beta values generated in step 7,\n",
    "identify  differentially  methylated  probes  between  group  DS  and\n",
    "group WT using the functions assigned to each student. Note; it can\n",
    "take several minutes; if you encounter any problem you can run the\n",
    "differential  methylated  analysis  only  on  a  subset  of  probes  (for example those on chromosome 1, 18 and 21)\n",
    "\n",
    "The test assigned to me for the analysis of differentially methylated probes is the Mann-Whitney U test (Wilcoxon rank sum test), which is implemented in the `wilcox.test` function.\n",
    "I apply it to the normalized beta values from step 7, using DS and WT as sample groups.\n",
    "I need to define a function so to apply the test to each probe."
   ]
  },
  {
   "cell_type": "code",
   "execution_count": null,
   "metadata": {},
   "outputs": [],
   "source": [
    "mann_whitney_all_rows <- function(x) {\n",
    "  wilcox <- wilcox.test(x~ groups)\n",
    "  return(wilcox$p.value)\n",
    "}\n",
    "\n",
    "pval_mw <- apply(beta_norm,1, mann_whitney_all_rows)"
   ]
  },
  {
   "cell_type": "markdown",
   "metadata": {},
   "source": [
    "## Step 10\n",
    "These are the instructpval_mw:\n",
    "> Apply multiple test correction and set a significant threshold of\n",
    "0.05. How many probes do you identify as differentially methylated\n",
    "considering nominal pValues? How many after Bonferroni correction?\n",
    "How many after BH correction?\n",
    "\n",
    "For doing multiple test correction, I will use the `p.adjust` function, specifying which correction I want to use (BH and Bonferroni).\n"
   ]
  },
  {
   "cell_type": "code",
   "execution_count": null,
   "metadata": {},
   "outputs": [],
   "source": [
    "diff_met_probes_raw <- pval_mw[pval_mw<=0.05]\n",
    "corrected_pValues_BH <- p.adjust(pval_mw,\"BH\")\n",
    "corrected_pValues_Bonf <- p.adjust(pval_mw,\"bonferroni\")\n",
    "diff_met_probes_BH <- corrected_pValues_BH[corrected_pValues_BH<=0.05]\n",
    "diff_met_probes_Bonf <- corrected_pValues_Bonf[corrected_pValues_Bonf<=0.05]\n",
    "length(diff_met_probes_raw)\n",
    "length(diff_met_probes_BH)\n",
    "length(diff_met_probes_Bonf)"
   ]
  },
  {
   "cell_type": "markdown",
   "metadata": {},
   "source": [
    "A total of 29388 probes have a p-value lower than 0.05 without multiple test correction, while there are no significant probes after Bonferroni and BH correction."
   ]
  },
  {
   "cell_type": "markdown",
   "metadata": {},
   "source": [
    "## Step 11\n",
    "These are the instructions:\n",
    "> Produce  an  heatmap  of  the  top  100  differentially  mehtylated\n",
    "probes.\n",
    "\n",
    "I will use the function `heatmap.2` to produce an heatmap of the top 100 differentially methylated probes.\n",
    "Since this is not specified in the instructions, I will use raw p-value as a measure of differential methylation.\n",
    "I first create a single dataframe with beta values, raw p-values and corrected p-values for each probe and I sort it according to the raw p-value."
   ]
  },
  {
   "cell_type": "code",
   "execution_count": null,
   "metadata": {},
   "outputs": [],
   "source": [
    "final_mwtest <- data.frame(beta_norm, pval_mw, corrected_pValues_BH, corrected_pValues_Bonf)\n",
    "final_mwtest_ordered <- final_mwtest[order(final_mwtest$pval_mw),]"
   ]
  },
  {
   "cell_type": "markdown",
   "metadata": {},
   "source": [
    "Now I produce an input matrix for the heatmap from the top 100 values of the dataframe.\n",
    "I subset the dataframe so to exclude p-values from the heatmap and to limit the heatmap to the top 100 probes."
   ]
  },
  {
   "cell_type": "code",
   "execution_count": null,
   "metadata": {},
   "outputs": [],
   "source": [
    "input_heatmap <- as.matrix(final_mwtest_ordered[1:100,1:8])"
   ]
  },
  {
   "cell_type": "markdown",
   "metadata": {},
   "source": [
    "I will now produce the heatmap from these top 100 probes, coloring the samples according to the group to which they belong (DS or WT).\n",
    "I leave the default parameters for clustering (euclidean distance and complete linkage)."
   ]
  },
  {
   "cell_type": "code",
   "execution_count": null,
   "metadata": {},
   "outputs": [],
   "source": [
    "DS_col <- 'orange'\n",
    "WT_col <- 'green'\n",
    "groups\n",
    "colorbar <- c(DS_col, DS_col, WT_col, WT_col, WT_col, DS_col, DS_col, WT_col)\n",
    "heatmap.2(input_heatmap,col=terrain.colors(100),Rowv=T,Colv=T,dendrogram=\"both\",key=T,ColSideColors=colorbar,density.info=\"none\",trace=\"none\",scale=\"none\",symm=F)"
   ]
  },
  {
   "cell_type": "markdown",
   "metadata": {},
   "source": [
    "From the heatmap we notice how the 2 sample groups are well clustered according to the methylation status of the top 100 probes."
   ]
  },
  {
   "cell_type": "markdown",
   "metadata": {},
   "source": [
    "## Step 12\n",
    "These are the instructions:\n",
    "> Produce a volcano plot and a Manhattan plot of the results of\n",
    "differential methylation analysis\n",
    "\n",
    "For obtaining a Volcano plot, I need a dataframe containing a measure of the differential methylation of each probe among sample groups (the difference of mean beta values across groups), and the -log10 p-value of such differences.\n",
    "Since this is not specified in the assignment, I will use the normalised beta values from step 7 in this section, and the BH p-values from step 10.\n",
    "Here I calculate the mean beta values for each probe in each sample group and their difference (across the 2 sample groups)."
   ]
  },
  {
   "cell_type": "code",
   "execution_count": null,
   "metadata": {},
   "outputs": [],
   "source": [
    "beta_DS <- beta_norm[,groups=='DS']\n",
    "beta_WT <- beta_norm[,groups=='WT']\n",
    "mean_beta_DS <- apply(beta_DS,1,mean)\n",
    "mean_beta_WT <- apply(beta_WT,1,mean)\n",
    "diff <- mean_beta_DS - mean_beta_WT"
   ]
  },
  {
   "cell_type": "markdown",
   "metadata": {},
   "source": [
    "At this poit `diff` contains the differential mean beta values between sample groups, for each position.\n",
    "Now I want to create a dataframe that includes also the -log10 of the BH p-value for each probe and plot it."
   ]
  },
  {
   "cell_type": "code",
   "execution_count": null,
   "metadata": {},
   "outputs": [],
   "source": [
    "volcano_df <- data.frame(diff, -log10(corrected_pValues_BH))\n",
    "plot(volcano_df[,1], volcano_df[,2],pch=16,cex=0.5)\n",
    "abline(a=-log10(0.01),b=0,col=\"red\")"
   ]
  },
  {
   "cell_type": "markdown",
   "metadata": {},
   "source": [
    "For obtaining the Manhattan plot, I first merge the dataframe containing the p-values for each probe with the annotation of the probes, using the `merge` function."
   ]
  },
  {
   "cell_type": "code",
   "execution_count": null,
   "metadata": {},
   "outputs": [],
   "source": [
    "df_manplot <- data.frame(rownames(final_mwtest), final_mwtest)\n",
    "colnames(df_manplot)[1] <- 'Name'\n",
    "df_manplot <- merge(df_manplot, getAnnotation(RGset),by=\"Name\")\n",
    "df_manplot"
   ]
  },
  {
   "cell_type": "code",
   "execution_count": null,
   "metadata": {},
   "outputs": [],
   "source": [
    "input_Manhattan <- data.frame(df_manplot$chr, df_manplot$pos, df_manplot$corrected_pValues_BH)\n",
    "str(input_Manhattan)\n",
    "#input_Manhattan$df_manplot.chr <- factor(input_Manhattan$df_manplot.chr,levels=c(\"1\",\"2\",\"3\",\"4\",\"5\",\"6\",\"7\",\"8\",\"9\",\"10\",\"11\",\"12\",\"13\",\"14\",\"15\",\"16\",\"17\",\"18\",\"19\",\"20\",\"21\",\"22\",\"X\",\"Y\"))\n",
    "levels(input_Manhattan$df_manplot.chr)\n",
    "palette <- rainbow(24)\n",
    "mhtplot(input_Manhattan,control=mht.control(colors=palette))"
   ]
  },
  {
   "cell_type": "markdown",
   "metadata": {},
   "source": [
    "## Optional task\n",
    "These are the instructions:\n",
    "> As DS is caused by the trisomy of chromosome 21, try also to plot the\n",
    "density  of  the  methylation  values  of  the  probes  mapping  on\n",
    "chromosome 21. Do you see a very clear difference between the\n",
    "samples? How many differentially methylated probes do you find on chromosome 21?"
   ]
  }
 ],
 "metadata": {
  "kernelspec": {
   "display_name": "R",
   "language": "R",
   "name": "ir"
  },
  "language_info": {
   "codemirror_mode": "r",
   "file_extension": ".r",
   "mimetype": "text/x-r-source",
   "name": "R",
   "pygments_lexer": "r",
   "version": "4.0.0"
  }
 },
 "nbformat": 4,
 "nbformat_minor": 4
}
